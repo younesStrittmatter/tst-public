{
 "cells": [
  {
   "cell_type": "markdown",
   "id": "397bbcf160ad8986",
   "metadata": {
    "editable": true,
    "slideshow": {
     "slide_type": ""
    },
    "tags": []
   },
   "source": [
    "# Scalars, Vectors, and Matrices\n",
    "\n",
    "## Introduction\n",
    "\n",
    "A *scalar* is a number used to quantify magnitude (e.g. temperature), while a *vector* is used to quantify magnitude and direction (e.g. wind).  \n",
    "\n",
    "Vectors are typically formatted as a list of numbers with each number corresponding to one direction. Familiar Cartesian coordinates have 2 dimensions, X & Y, and a vector in Cartesian coordinates is 1x2, a one dimensional list with two numbers. \n",
    "For example, west-east is the X axis and south-north is the Y axis. The vector (3, 4) indicates wind moving both 3 mph west and 4 mph north, but the combination of these components is a vector of wind moving 5 mph northwest (thanks to the pythagorean theorem, $a^2 + b^2 = c^2$). The *magnitude* is the distance from the origin (0,0), in this case 5. The vector itself is one dimensional and can be depicted as an arrow starting at (0,0) and extending to (3,4) in these Cartesian coordinates.    \n",
    "\n",
    "***Note:*** A number with magnitude AND two or more directions is called a *tensor*. One way to think of a basic tensor is pinching and pulling a rubber sheet toward you: there is a magnitude of force pulling back toward the initial position (you could use this to launch a pebble like a slingshot) and there is also a magnitude of tension in the rubber sheet itself that will contract back when you let go. Tensors are used to describe gravity in general relativity.   \n",
    "\n",
    "Vectors are typically formatted as one-dimensional data structures or lists, 1xN, with N as the length of the list.  A *matrix* is a two-dimensional, MxN, data structures. \n",
    "\n",
    "Here, we introduce common mathematical notation and the equivalent code implementation in [Numpy](https://numpy.org/).\n",
    "\n",
    "**Setup:**"
   ]
  },
  {
   "cell_type": "code",
   "execution_count": 2,
   "id": "fb2910919ad35095",
   "metadata": {
    "ExecuteTime": {
     "end_time": "2025-01-20T20:18:40.798057Z",
     "start_time": "2025-01-20T20:18:40.064284Z"
    }
   },
   "outputs": [],
   "source": [
    "%%capture\n",
    "!pip install numpy\n",
    "\n",
    "import numpy as np"
   ]
  },
  {
   "cell_type": "markdown",
   "id": "9a82e287066b9a9",
   "metadata": {},
   "source": [
    "## Vector & Matrix Operations\n",
    "\n",
    "### Notation\n",
    "  \n",
    "Like scalars, vectors and matrices of numbers can be added and multiplied. However, these operations differ from their scalar counterparts, and are heavily dependent on dimensionality. Matrix and vector dimensions are given as (r x c) where r is the number of rows, and c is the number of columns. Individual vectors are 1 dimensional and notated as a single row (1 x c) or as a single column (r x 1).\n",
    "\n",
    "For example, $a$ is a [1x3] vector, called a row vector. Vector $b$ is a [3x1] vector, called a column vector. $C$ is a [3x3] matrix. The components of a matrix $C$ are denoted $c_{ij}$, where i is the row index and j is the column index.\n",
    "\n",
    "***Note:*** Vectors are a special type of matrix. In the following sections, the term \"matrices\" will be used as a general term to refer to both matrices and vectors.\n",
    " \n",
    "$$\n",
    "\\begin{equation}\n",
    "\\overrightarrow{a} =\n",
    "\\left[\n",
    "\\begin{matrix}\n",
    "a_{1} & a_{2} & a_{3}\n",
    "\\end{matrix}\n",
    "\\right]\n",
    ";  \\overrightarrow{b} =\n",
    "\\left[\n",
    "\\begin{matrix}\n",
    "b_{1} \\\\ b_{2} \\\\ b_{3}\n",
    "\\end{matrix}\n",
    "\\right]\n",
    "; C =\n",
    "\\left[\n",
    "\\begin{matrix}\n",
    "C_{11} & C_{12} & C_{13} \\\\ C_{21} & C_{22} & C_{23} \\\\ C_{31} & C_{32} & C_{33}\n",
    "\\end{matrix}\n",
    "\\right]\n",
    "\\end{equation}\n",
    "$$\n",
    "\n",
    "**Code:**"
   ]
  },
  {
   "cell_type": "code",
   "execution_count": 28,
   "id": "ea100618137346b1",
   "metadata": {
    "ExecuteTime": {
     "end_time": "2025-01-20T21:24:30.896218Z",
     "start_time": "2025-01-20T21:24:30.889351Z"
    }
   },
   "outputs": [
    {
     "name": "stdout",
     "output_type": "stream",
     "text": [
      "a((1, 3)):\n",
      "[[1 2 3]]\n",
      "b((3, 1)):\n",
      "[[4]\n",
      " [5]\n",
      " [6]]\n",
      "c((3, 3)):\n",
      "[[1 2 3]\n",
      " [4 5 6]\n",
      " [7 8 9]]\n"
     ]
    }
   ],
   "source": [
    "# Define vectors and matrices\n",
    "a = np.array([[1, 2, 3]])        # Row vector (1x3)\n",
    "b = np.array([[4], [5], [6]])    # Column vector (3x1)\n",
    "c = np.array([[1, 2, 3],         # Matrix (3x3)\n",
    "              [4, 5, 6],\n",
    "              [7, 8, 9]])\n",
    "\n",
    "# Get the dimensions\n",
    "dim_a = a.shape\n",
    "dim_b = b.shape\n",
    "dim_c = c.shape\n",
    "\n",
    "print(f'a({dim_a}):\\n{a}')\n",
    "print(f'b({dim_b}):\\n{b}')\n",
    "print(f'c({dim_c}):\\n{c}')"
   ]
  },
  {
   "cell_type": "markdown",
   "id": "8cc19bf3f6b6ec45",
   "metadata": {},
   "source": [
    "### Transpose\n",
    "  \n",
    "When performing operations on vectors, it is easiest to represent a vector as a column vector, and a corresponding row vector as its *transpose*. \n",
    "$$\n",
    "\\begin{equation}\n",
    "\\overrightarrow{a}=\n",
    "\\left[\n",
    "\\begin{matrix}\n",
    "a_{1} \\\\ a_{2} \\\\ a_{3}\n",
    "\\end{matrix}\n",
    "\\right]\n",
    "; \\overrightarrow{a}^T=\n",
    "\\left[\n",
    "\\begin{matrix}\n",
    "a_{1} & a_{2} & a_{3}\n",
    "\\end{matrix}\n",
    "\\right]\n",
    "\\end{equation}\n",
    "$$\n",
    "\n",
    "**Code:**"
   ]
  },
  {
   "cell_type": "code",
   "execution_count": 13,
   "id": "cf510fcdbf7bd66a",
   "metadata": {
    "ExecuteTime": {
     "end_time": "2025-01-20T20:31:12.784424Z",
     "start_time": "2025-01-20T20:31:12.777332Z"
    }
   },
   "outputs": [
    {
     "name": "stdout",
     "output_type": "stream",
     "text": [
      "Transpose of a:\n",
      " [[1]\n",
      " [2]\n",
      " [3]]\n",
      "Dim a: (1, 3)\n",
      "Dim a_transpose: (3, 1)\n"
     ]
    }
   ],
   "source": [
    "# Define a row vector\n",
    "a = np.array([[1, 2, 3]])\n",
    "\n",
    "# Transpose the vector\n",
    "a_transpose = a.T\n",
    "print('Transpose of a:\\n', a_transpose)\n",
    "print(f'Dim a: {a.shape}')\n",
    "print(f'Dim a_transpose: {a_transpose.shape}')"
   ]
  },
  {
   "cell_type": "markdown",
   "id": "74059bc6d4a89265",
   "metadata": {},
   "source": [
    "### Addition\n",
    "  \n",
    "Matrices of the same dimension can be added component-wise, and the result is a new matrix of the same dimension.  \n",
    "\n",
    "$$\n",
    "\\begin{equation}\n",
    "\\overrightarrow{a} \n",
    "+\n",
    "\\overrightarrow{b}\n",
    "=\n",
    "\\left[\n",
    "\\begin{matrix}\n",
    "a_{1} \\\\ a_{2} \\\\ a_{3}\n",
    "\\end{matrix}\n",
    "\\right]\n",
    "+\n",
    "\\left[\n",
    "\\begin{matrix}\n",
    "b_{1} \\\\ b_{2} \\\\ b_{3}\n",
    "\\end{matrix}\n",
    "\\right]\n",
    "=\n",
    "\\left[\n",
    "\\begin{matrix}\n",
    "a_{1} + b_{1}\\\\ a_{2} + b_{2} \\\\ a_{3} + b_{3}\n",
    "\\end{matrix}\n",
    "\\right]\n",
    "\\end{equation}\n",
    "$$\n",
    "  \n",
    "Matrix subtraction works precisely the same way.\n",
    "\n",
    "**Code:**"
   ]
  },
  {
   "cell_type": "code",
   "execution_count": 29,
   "id": "6c7b6ab7c93841e5",
   "metadata": {
    "ExecuteTime": {
     "end_time": "2025-01-20T21:25:57.154582Z",
     "start_time": "2025-01-20T21:25:57.149651Z"
    }
   },
   "outputs": [
    {
     "name": "stdout",
     "output_type": "stream",
     "text": [
      "a + b:\n",
      " [[5]\n",
      " [7]\n",
      " [9]]\n",
      "b - a:\n",
      " [[3]\n",
      " [3]\n",
      " [3]]\n"
     ]
    }
   ],
   "source": [
    "# Define two vectors\n",
    "a = np.array([[1], [2], [3]])\n",
    "b = np.array([[4], [5], [6]])\n",
    "\n",
    "# Calculate the sum of a and b\n",
    "sum_ab = a + b\n",
    "\n",
    "# Calculate the difference between b and a\n",
    "diff_ba = b - a\n",
    "\n",
    "print('a + b:\\n', sum_ab)\n",
    "print('b - a:\\n', diff_ba)"
   ]
  },
  {
   "cell_type": "markdown",
   "id": "34d602596998203c",
   "metadata": {},
   "source": [
    "### Scalar Multiplication\n",
    "\n",
    "A matrix can also be multiplied by a scalar by multiplying every component of a matrix by that scalar.\n",
    "\n",
    "$$\n",
    "\\alpha \n",
    "\\overrightarrow{a}\n",
    "=\n",
    "\\begin{equation}\n",
    "\\alpha \\left[\n",
    "\\begin{matrix}\n",
    "a_{1} \\\\ a_{2} \\\\ a_{3}\n",
    "\\end{matrix}\n",
    "\\right]\n",
    "=\n",
    "\\left[\n",
    "\\begin{matrix}\n",
    "\\alpha a_{1} \\\\ \\alpha a_{2} \\\\ \\alpha a_{3}\n",
    "\\end{matrix}\n",
    "\\right]\n",
    "\\end{equation}\n",
    "$$\n",
    "\n",
    "**Code:**"
   ]
  },
  {
   "cell_type": "code",
   "execution_count": 31,
   "id": "518ebd4cdc05110",
   "metadata": {
    "ExecuteTime": {
     "end_time": "2025-01-20T21:27:18.292417Z",
     "start_time": "2025-01-20T21:27:18.287831Z"
    }
   },
   "outputs": [
    {
     "name": "stdout",
     "output_type": "stream",
     "text": [
      "alpha * a:\n",
      " [[2]\n",
      " [4]\n",
      " [6]]\n"
     ]
    }
   ],
   "source": [
    "# Define a vector and a scalar\n",
    "alpha = 2\n",
    "a = np.array([[1], [2], [3]])\n",
    "\n",
    "\n",
    "product_alpha_a = alpha * a\n",
    "print('alpha * a:\\n', product_alpha_a)"
   ]
  },
  {
   "cell_type": "markdown",
   "id": "f8a335b62c015f52",
   "metadata": {},
   "source": [
    "### Dot Product\n",
    "  \n",
    "There are other types of vector multiplication. Here, we will introduce one type of vector multiplication: the *dot product*, or *inner product*.  \n",
    "  \n",
    "A dot product is the sum of component-wise multiplication of vectors. To perform it, we first multiply each component of the first vector by its corresponding component of the second vector, then we sum the resulting products. The result of a dot product is a scalar.  \n",
    "\n",
    "$$\n",
    "\\begin{equation}\n",
    "c =\n",
    "\\sum\\limits_{i} a_{i} b_{i}\n",
    "\\end{equation}\n",
    "$$\n",
    "    \n",
    "In vector notation, the dot product can be written as follows  \n",
    "  \n",
    "$$\n",
    "\\begin{equation}\n",
    "\\overrightarrow{b} \\cdot \\overrightarrow{a} = \\overrightarrow{b}^T \\overrightarrow{a} = \n",
    "\\left[\n",
    "\\begin{matrix}\n",
    "b_{1} & b_{2} & b_{3}\n",
    "\\end{matrix}\n",
    "\\right]\n",
    "\\left[\n",
    "\\begin{matrix}\n",
    "a_{1} \\\\ a_{2} \\\\ a_{3}\n",
    "\\end{matrix}\n",
    "\\right]\n",
    "=a_{1}b_{1} + a_{2}b_{2} + a_{3}b_{3}  \n",
    "=c\n",
    "\\end{equation}\n",
    "$$ \n",
    "  \n",
    "Note that the product only works if its “inner dimensions”, the number of columns of $b$ and the number of rows of $a$, are the same.\n",
    "\n",
    "**Code:**"
   ]
  },
  {
   "cell_type": "code",
   "execution_count": 20,
   "id": "644cc48066095659",
   "metadata": {
    "ExecuteTime": {
     "end_time": "2025-01-20T20:56:48.019509Z",
     "start_time": "2025-01-20T20:56:48.015746Z"
    }
   },
   "outputs": [
    {
     "name": "stdout",
     "output_type": "stream",
     "text": [
      "Dot product between a and b:\n",
      " [[32]]\n"
     ]
    }
   ],
   "source": [
    "# Define two vectors\n",
    "a = np.array([[1], [2], [3]])\n",
    "b = np.array([[4], [5], [6]])\n",
    "\n",
    "dot_product_ba = np.dot(b.T, a)\n",
    "\n",
    "print('Dot product between b and a:\\n', dot_product_ba)"
   ]
  },
  {
   "cell_type": "markdown",
   "id": "73713bec7c988726",
   "metadata": {},
   "source": [
    "### Exercise 1\n",
    " \n",
    "What happens if we try to compute a dot product from vectors whose inner dimensions are different? Write some code in Python that tries to compute the dot product from vectors with different inner dimensions. Report and interpret the error.\n"
   ]
  },
  {
   "cell_type": "code",
   "execution_count": 27,
   "id": "b456261fd28fe6d4",
   "metadata": {
    "ExecuteTime": {
     "end_time": "2025-01-20T21:06:04.812333Z",
     "start_time": "2025-01-20T21:06:04.797364Z"
    },
    "editable": true,
    "slideshow": {
     "slide_type": ""
    },
    "tags": [
     "remove_output"
    ]
   },
   "outputs": [
    {
     "name": "stdout",
     "output_type": "stream",
     "text": [
      "dim(a)=(1, 3), dim(b)=(3, 1)\n",
      "Dot product between a and b:\n",
      " [[32]]\n"
     ]
    },
    {
     "ename": "ValueError",
     "evalue": "shapes (1,3) and (1,3) not aligned: 3 (dim 1) != 1 (dim 0)",
     "output_type": "error",
     "traceback": [
      "\u001B[0;31m---------------------------------------------------------------------------\u001B[0m",
      "\u001B[0;31mValueError\u001B[0m                                Traceback (most recent call last)",
      "Cell \u001B[0;32mIn[27], line 14\u001B[0m\n\u001B[1;32m     11\u001B[0m d \u001B[38;5;241m=\u001B[39m np\u001B[38;5;241m.\u001B[39marray([[\u001B[38;5;241m4\u001B[39m, \u001B[38;5;241m5\u001B[39m, \u001B[38;5;241m6\u001B[39m]])\n\u001B[1;32m     13\u001B[0m \u001B[38;5;66;03m# Calculate the dot product\u001B[39;00m\n\u001B[0;32m---> 14\u001B[0m dot_cd \u001B[38;5;241m=\u001B[39m \u001B[43mnp\u001B[49m\u001B[38;5;241;43m.\u001B[39;49m\u001B[43mdot\u001B[49m\u001B[43m(\u001B[49m\u001B[43mc\u001B[49m\u001B[43m,\u001B[49m\u001B[43m \u001B[49m\u001B[43md\u001B[49m\u001B[43m)\u001B[49m\n",
      "\u001B[0;31mValueError\u001B[0m: shapes (1,3) and (1,3) not aligned: 3 (dim 1) != 1 (dim 0)"
     ]
    }
   ],
   "source": [
    "# Example for vectors where the inner dimension match\n",
    "a = np.array([[1, 2, 3]])\n",
    "b = np.array([[4], [5], [6]])\n",
    "\n",
    "print(f'dim(a)={a.shape}, dim(b)={b.shape}')\n",
    "\n",
    "print('Dot product between a and b:\\n', np.dot(a, b))\n",
    "\n",
    "# Define vectors where the inner dimensions don't match\n",
    "c = # TODO: Your code here\n",
    "d = # TODO: Your code here\n",
    "\n",
    "# Calculate the dot product\n",
    "dot_cd = np.dot(c, d)"
   ]
  },
  {
   "cell_type": "markdown",
   "id": "23974e2f6322545b",
   "metadata": {},
   "source": [
    "### Solution 1\n",
    "\n",
    "The following solution is just one of many. Make sure to understand why a dot product is not possible when the dimensions don't match.\n",
    "\n",
    "```python\n",
    "# Example for vectors where the inner dimension match\n",
    "a = np.array([[1, 2, 3]])\n",
    "b = np.array([[4], [5], [6]])\n",
    "\n",
    "print(f'dim(a)={a.shape}, dim(b)={b.shape}')\n",
    "\n",
    "print('Dot product between a and b:\\n', np.dot(a, b))\n",
    "\n",
    "# Define vectors where the inner dimensions don't match\n",
    "c = np.array([[1, 2, 3]])\n",
    "d = np.array([[4, 5, 6]])\n",
    "\n",
    "# Calculate the dot product\n",
    "dot_cd = np.dot(c, d)\n",
    "```"
   ]
  },
  {
   "cell_type": "markdown",
   "id": "797fcc12d7b1eef",
   "metadata": {},
   "source": [
    "### Multiplication of Matrix and a Vector Multiplication\n",
    "\n",
    "The concept of a dot product can be extended to multiplying a matrix with a vector. We can think of this as multiply a single vector $b$ by a set of vectors ${A}$. Rather than doing so individually, we can form the vectors in ${A}$ into a matrix (which we will also call $A$), by storing their transposes in the rows of $A$. Then, we can sequentially compute the dot product of each vector in $A$ with $b$, and store their results in a new vector, $c$. The dimensions of $c$ will depend on how many vectors we stored in $A$.\n",
    "  \n",
    "For example, let there be a set of two vectors\n",
    "\n",
    "$$\n",
    "\\begin{equation}\n",
    "\\overrightarrow{a_{1}}=\n",
    "\\left[\n",
    "\\begin{matrix}\n",
    "a_{11} \\\\ a_{21} \\\\ a_{31}\n",
    "\\end{matrix}\n",
    "\\right]\n",
    "\\end{equation}\n",
    "$$\n",
    "\n",
    "and its transpose\n",
    "\n",
    "$$\n",
    "\\begin{equation}\n",
    "\\overrightarrow{a_{1}}^T=\n",
    "\\left[\n",
    "\\begin{matrix}\n",
    "a_{11} & a_{12} & a_{13}\n",
    "\\end{matrix}\n",
    "\\right]\n",
    "\\end{equation}\n",
    "$$\n",
    "\n",
    "$ \\overrightarrow{a_{2}} $ is constructed in the same way to $ \\overrightarrow{a_{1}}$ .  \n",
    "  \n",
    "Now, let $A$ be\n",
    "\n",
    "$$\n",
    "\\begin{equation}\n",
    "A = \n",
    "\\left[\n",
    "\\begin{matrix}\n",
    "\\overrightarrow{a_{1}}^T \\\\ \\overrightarrow{a_{2}}^T\n",
    "\\end{matrix}\n",
    "\\right]\n",
    "=\n",
    "\\left[\n",
    "\\begin{matrix}\n",
    "a_{11} & a_{12} & a_{13} \\\\ a_{21} & a_{22} & a_{23}\n",
    "\\end{matrix}\n",
    "\\right]\n",
    "\\end{equation} \n",
    "$$\n",
    "\n",
    "Then the product Ab is  \n",
    "\n",
    "$$\n",
    "\\begin{equation}\n",
    "A\\overrightarrow{b} = \n",
    "\\left[\n",
    "\\begin{matrix}\n",
    "a_{11} & a_{12} & a_{13} \\\\ a_{21} & a_{22} & a_{23}\n",
    "\\end{matrix}\n",
    "\\right]\n",
    "\\left[\n",
    "\\begin{matrix}\n",
    "b_{1}\\\\b_{2}\\\\b_{3}\n",
    "\\end{matrix}\n",
    "\\right]\n",
    "=\n",
    "\\left[\n",
    "\\begin{matrix}\n",
    "\\overrightarrow{a_{1}} \\cdot \\overrightarrow{b} \\\\ \\overrightarrow{a_{2}} \\cdot \\overrightarrow{b}\n",
    "\\end{matrix}\n",
    "\\right]\n",
    "=\n",
    "\\left[\n",
    "\\begin{matrix}\n",
    "c_{1} \\\\ c_{2}\n",
    "\\end{matrix}\n",
    "\\right]\n",
    "=\n",
    "\\overrightarrow{c}\n",
    "\\end{equation}\n",
    "$$\n",
    "\n",
    "**Code:**"
   ]
  },
  {
   "cell_type": "code",
   "execution_count": 64,
   "id": "cc51712381412890",
   "metadata": {
    "ExecuteTime": {
     "end_time": "2025-01-20T22:13:56.883510Z",
     "start_time": "2025-01-20T22:13:56.875717Z"
    }
   },
   "outputs": [
    {
     "name": "stdout",
     "output_type": "stream",
     "text": [
      "A * b: [[ 50]\n",
      " [122]]\n",
      "\n",
      "a_1 * b: [[50]]\n",
      "a_2 * b: [[122]]\n"
     ]
    }
   ],
   "source": [
    "# Define a_1 and a_2\n",
    "a_1 = np.array([[1], [2], [3]])\n",
    "a_2 = np.array([[4], [5], [6]])\n",
    "\n",
    "# Define the matrix A\n",
    "A = np.vstack([a_1.T, a_2.T])\n",
    "\n",
    "# Define b\n",
    "b = np.array([[7], [8], [9]])\n",
    "\n",
    "# Here, we introduce a short form for the dot product (@)\n",
    "c = A @ b\n",
    "\n",
    "print('A * b:', c)\n",
    "print()\n",
    "print('a_1 * b:', a_1.T @ b)\n",
    "print('a_2 * b:', a_2.T @ b)"
   ]
  },
  {
   "cell_type": "markdown",
   "id": "90e0205a27328a9a",
   "metadata": {},
   "source": [
    "### Matrix Multiplication \n",
    "\n",
    "Matrix multiplication is what we use if we want to multiply a set of vectors ${B}$ by the vectors in $A$, we can perform a similar operation as before. We store the vectors in ${B}$ in the columns of a matrix (also called $B$). Then, we compute the dot product of each vector in the columns of $B$ with each vector in the rows of $A$. We store the results, as we did before, in a new set of column vectors, a matrix $C$. $C$ will have the “outer dimensions” of $A$ and $B$ (the same number of rows as $A$ and the same number of columns as $B$).  \n",
    "  \n",
    "For example, let there be two vectors b such that \n",
    "\n",
    "$$ \n",
    "\\overrightarrow{b_{1}} =\n",
    "\\left[\n",
    "\\begin{matrix}\n",
    "b_{11} \\\\ b_{21} \\\\ b_{31}\n",
    "\\end{matrix}\n",
    "\\right] \n",
    "$$\n",
    "\n",
    "and $ \\overrightarrow{b_{2}} $ be similar. Then B is given by  \n",
    "\n",
    "$$\n",
    "\\begin{equation}\n",
    "B =\n",
    "\\left[\n",
    "\\begin{matrix}\n",
    "b_{11} & b_{12} \\\\ b_{21} & b_{22}  \\\\ b_{31} & b_{32}\n",
    "\\end{matrix}\n",
    "\\right]\n",
    "\\end{equation}\n",
    "$$\n",
    "\n",
    "$$\n",
    "\\begin{equation}\n",
    "AB =\n",
    "\\left[\n",
    "\\begin{matrix}\n",
    "a_{11} & a_{12} & a_{13} \\\\ a_{21} & a_{22} & a_{23}\n",
    "\\end{matrix}\n",
    "\\right]\n",
    "\\left[\n",
    "\\begin{matrix}\n",
    "b_{11} & b_{12} \\\\ b_{21} & b_{22}  \\\\ b_{31} & b_{32}\n",
    "\\end{matrix}\n",
    "\\right]\n",
    "=\n",
    "\\left[\n",
    "\\begin{matrix}\n",
    "\\overrightarrow{a_{1}} \\cdot \\overrightarrow{b_{1}} & \\overrightarrow{a_{1}} \\cdot \\overrightarrow{b_{2}} \\\\ \\overrightarrow{a_{2}} \\cdot \\overrightarrow{b_{1}} & \\overrightarrow{a_{2}} \\cdot \\overrightarrow{b_{2}}\n",
    "\\end{matrix}\n",
    "\\right]\n",
    "=\n",
    "\\left[\n",
    "\\begin{matrix}\n",
    "c_{11} & c_{12} \\\\ c_{21} & c_{22}\n",
    "\\end{matrix}\n",
    "\\right]\n",
    "=\n",
    "C\n",
    "\\end{equation}\n",
    "$$\n",
    "  \n",
    "The components of $C$ are therefore given by $ c_{ij} = a_{i} \\cdot b_{j} $  \n",
    "  \n",
    "In this case, the product BA also exists. However, it is very important to understand that matrix multiplication does not commute: $ AB \\neq BA.$\n",
    "\n",
    "**Code**:\n"
   ]
  },
  {
   "cell_type": "code",
   "execution_count": 69,
   "id": "472f1c17f5fe947e",
   "metadata": {
    "ExecuteTime": {
     "end_time": "2025-01-20T22:16:05.237563Z",
     "start_time": "2025-01-20T22:16:05.234033Z"
    }
   },
   "outputs": [
    {
     "name": "stdout",
     "output_type": "stream",
     "text": [
      "A * B [[ 50  68]\n",
      " [122 167]]\n",
      "\n",
      "a_1 * b_1 [[50]]\n",
      "a_1 * b_2 [[68]]\n",
      "a_2 * b_1 [[122]]\n",
      "a_2 * b_2 [[167]]\n",
      "\n",
      "B * A [[47 64 81]\n",
      " [52 71 90]\n",
      " [57 78 99]]\n"
     ]
    }
   ],
   "source": [
    "# Define Vectors\n",
    "a_1 = np.array([[1], [2], [3]])\n",
    "a_2 = np.array([[4], [5], [6]])\n",
    "\n",
    "b_1 = np.array([[7], [8], [9]])\n",
    "b_2 = np.array([[10], [11], [12]])\n",
    "\n",
    "# Define the matrices\n",
    "A = np.vstack([a_1.T, a_2.T])\n",
    "B = np.hstack([b_1, b_2])\n",
    "\n",
    "# Calculate the matrix product\n",
    "C = A @ B\n",
    "\n",
    "print('A * B', C)\n",
    "print()\n",
    "print('a_1 * b_1', a_1.T @ b_1)\n",
    "print('a_1 * b_2', a_1.T @ b_2)\n",
    "print('a_2 * b_1', a_2.T @ b_1)\n",
    "print('a_2 * b_2', a_2.T @ b_2)\n",
    "\n",
    "# Calculate the matrix product in reverse order\n",
    "C_reverse = B @ A\n",
    "\n",
    "print()\n",
    "print('B * A', C_reverse)"
   ]
  },
  {
   "cell_type": "markdown",
   "id": "99a7992f3dccaf4e",
   "metadata": {},
   "source": [
    "### Exercise 2\n",
    "\n",
    "Let D be a 4x2 matrix and E be a 2x7 matrix, what are the dimensions of DE? What are the dimensions of ED?"
   ]
  },
  {
   "metadata": {},
   "cell_type": "markdown",
   "source": [
    "### Solution 2\n",
    "\n",
    "- The dimensions of DE are (4, 7)\n",
    "- ED is not defined since the inner dimensions (7 and 4) don't match\n"
   ],
   "id": "f46e7409ed451164"
  }
 ],
 "metadata": {
  "kernelspec": {
   "display_name": "Python 3 (ipykernel)",
   "language": "python",
   "name": "python3"
  },
  "language_info": {
   "codemirror_mode": {
    "name": "ipython",
    "version": 3
   },
   "file_extension": ".py",
   "mimetype": "text/x-python",
   "name": "python",
   "nbconvert_exporter": "python",
   "pygments_lexer": "ipython3",
   "version": "3.11.7"
  }
 },
 "nbformat": 4,
 "nbformat_minor": 5
}
