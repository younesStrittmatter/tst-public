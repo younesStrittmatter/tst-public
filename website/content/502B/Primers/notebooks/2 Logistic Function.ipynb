{
 "cells": [
  {
   "metadata": {},
   "cell_type": "markdown",
   "source": [
    "# Logistic Function\n",
    "\n",
    "## Introduction\n",
    "\n",
    "The logistic function, also known as the sigmoid function, is a mathematical function that maps any real number to a value between 0 and 1. It is widely used in machine learning, statistics, and biology for modeling probabilities, activation functions in neural networks, and processes with S-shaped growth curves. Its smooth, S-shaped curve makes it ideal for representing transitions or probabilities.\n",
    "\n",
    "Here, we also use PsyNeuLink to introduce basic functionality.\n",
    "\n",
    "**Setup:**\n"
   ],
   "id": "1ec1890b9e906c5c"
  },
  {
   "metadata": {
    "ExecuteTime": {
     "end_time": "2025-01-21T16:51:39.736401Z",
     "start_time": "2025-01-21T16:51:36.627544Z"
    }
   },
   "cell_type": "code",
   "source": [
    "%%capture\n",
    "!pip install psyneulink\n",
    "\n",
    "import psyneulink as pnl"
   ],
   "id": "4d8ce63fc9d33c6b",
   "outputs": [],
   "execution_count": 2
  },
  {
   "metadata": {},
   "cell_type": "markdown",
   "source": "We can use PsyNeuLink to plot the default logistic function:",
   "id": "d00cf20be71c380e"
  },
  {
   "metadata": {
    "ExecuteTime": {
     "end_time": "2025-01-20T22:34:23.680192Z",
     "start_time": "2025-01-20T22:34:23.508786Z"
    }
   },
   "cell_type": "code",
   "source": [
    "logistic_transfer = pnl.TransferMechanism(function=pnl.Logistic())\n",
    "logistic_transfer.plot()"
   ],
   "id": "57a51fed7de0e045",
   "outputs": [
    {
     "data": {
      "text/plain": [
       "<Figure size 640x480 with 1 Axes>"
      ],
      "image/png": "[encoded data removed]"
     },
     "metadata": {},
     "output_type": "display_data"
    }
   ],
   "execution_count": 5
  },
  {
   "metadata": {},
   "cell_type": "markdown",
   "source": "In the cell below you can plug a single number into this function and get an output value. Your input corresponds to a point on the x-axis, and the output is the corresponding y-value (height of the point on the curve above the x you specified).",
   "id": "deffc5490e1689cd"
  },
  {
   "metadata": {
    "ExecuteTime": {
     "end_time": "2025-01-20T22:34:49.276614Z",
     "start_time": "2025-01-20T22:34:49.268656Z"
    }
   },
   "cell_type": "code",
   "source": "logistic_transfer.execute(-2)   # Try other inputs! What do you expect when you input 0?",
   "id": "d2bc1ef48fd08d4a",
   "outputs": [
    {
     "data": {
      "text/plain": [
       "array([[0.11920292]])"
      ]
     },
     "execution_count": 8,
     "metadata": {},
     "output_type": "execute_result"
    }
   ],
   "execution_count": 8
  },
  {
   "metadata": {},
   "cell_type": "markdown",
   "source": [
    "## Gain, Offset, and Bias\n",
    "\n",
    "The general logistic function has the following mathematical form:\n",
    "\n",
    "$$\n",
    "f(x) = \\frac{1}{1 + e^{-gain * (x - bias)}} + offset\n",
    "$$\n",
    "\n",
    "The gain determines how steep the central portion of the S curve is, with higher values being steeper. The bias determines the midpoint of the curve, with higher values shifting the curve to the right. It shifts the curve horizontally. The offset shifts the curve vertically."
   ],
   "id": "5d5bd4de9706e0bd"
  },
  {
   "metadata": {
    "ExecuteTime": {
     "end_time": "2025-01-21T16:12:16.348700Z",
     "start_time": "2025-01-21T16:12:16.345360Z"
    }
   },
   "cell_type": "code",
   "source": [
    "from IPython.display import IFrame\n",
    "\n",
    "url = \"{{ assets_url }}/html_widgets/interactive_logistic.html\"\n",
    "IFrame(src=url, width=\"100%\", height=\"800px\")"
   ],
   "id": "bc299493119540f6",
   "outputs": [
    {
     "data": {
      "text/plain": [
       "<IPython.lib.display.IFrame at 0x29beb8790>"
      ],
      "text/html": [
       "\n",
       "        <iframe\n",
       "            width=\"100%\"\n",
       "            height=\"800px\"\n",
       "            src=\"https://younesstrittmatter.github.io/502B/_static/html_widgets/interactive_logistic.html\"\n",
       "            frameborder=\"0\"\n",
       "            allowfullscreen\n",
       "            \n",
       "        ></iframe>\n",
       "        "
      ]
     },
     "execution_count": 118,
     "metadata": {},
     "output_type": "execute_result"
    }
   ],
   "execution_count": 118
  },
  {
   "metadata": {},
   "cell_type": "markdown",
   "source": [
    "### Exercise 1\n",
    "\n",
    "Can you find a parameter settings that makes the logistic function output 1 when the input is 1?"
   ],
   "id": "5b9e317df9768f97"
  },
  {
   "metadata": {},
   "cell_type": "markdown",
   "source": [
    "### Solution 1\n",
    "\n",
    "An easy way to do this is to shift the curve by 1 to the right and 0.5 up. This can be achieved by setting the bias to 1 and the offset to 0.5.\n",
    "\n",
    "```python\n",
    "logistic_transfer = pnl.TransferMechanism(function=pnl.Logistic(gain=1, bias=1, offset=0.5))\n",
    "logistic_transfer.execute(1)\n",
    "```"
   ],
   "id": "5a34fab95e025662"
  }
 ],
 "metadata": {
  "kernelspec": {
   "display_name": "Python 3",
   "language": "python",
   "name": "python3"
  },
  "language_info": {
   "codemirror_mode": {
    "name": "ipython",
    "version": 2
   },
   "file_extension": ".py",
   "mimetype": "text/x-python",
   "name": "python",
   "nbconvert_exporter": "python",
   "pygments_lexer": "ipython2",
   "version": "2.7.6"
  }
 },
 "nbformat": 4,
 "nbformat_minor": 5
}
